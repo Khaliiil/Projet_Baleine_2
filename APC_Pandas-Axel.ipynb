{
 "cells": [
  {
   "cell_type": "code",
   "execution_count": 2,
   "metadata": {
    "collapsed": false
   },
   "outputs": [],
   "source": [
    "import numpy as np\n",
    "import matplotlib.pyplot as plt\n",
    "%matplotlib inline\n",
    "import matplotlib.pyplot as plt\n",
    "import numpy as np\n",
    "from sklearn import linear_model\n",
    "import scipy\n",
    "import aifc\n",
    "import csv\n",
    "\n",
    "\n",
    "#data = np.loadtxt('TEST.csv', delimiter=',')\n",
    "#clip_name = data[:,0]\n",
    "#label = data[:,1]\n",
    "\n",
    "#plt.scatter(clip_name,label)                          # afficher le nuage de point\n",
    "#plt.show()"
   ]
  },
  {
   "cell_type": "code",
   "execution_count": 3,
   "metadata": {
    "collapsed": false
   },
   "outputs": [
    {
     "data": {
      "text/html": [
       "<div>\n",
       "<table border=\"1\" class=\"dataframe\">\n",
       "  <thead>\n",
       "    <tr style=\"text-align: right;\">\n",
       "      <th></th>\n",
       "      <th>sample</th>\n",
       "      <th>label</th>\n",
       "    </tr>\n",
       "  </thead>\n",
       "  <tbody>\n",
       "    <tr>\n",
       "      <th>0</th>\n",
       "      <td>train1.aiff</td>\n",
       "      <td>0</td>\n",
       "    </tr>\n",
       "    <tr>\n",
       "      <th>1</th>\n",
       "      <td>train2.aiff</td>\n",
       "      <td>0</td>\n",
       "    </tr>\n",
       "    <tr>\n",
       "      <th>2</th>\n",
       "      <td>train3.aiff</td>\n",
       "      <td>0</td>\n",
       "    </tr>\n",
       "    <tr>\n",
       "      <th>3</th>\n",
       "      <td>train4.aiff</td>\n",
       "      <td>0</td>\n",
       "    </tr>\n",
       "    <tr>\n",
       "      <th>4</th>\n",
       "      <td>train5.aiff</td>\n",
       "      <td>0</td>\n",
       "    </tr>\n",
       "  </tbody>\n",
       "</table>\n",
       "</div>"
      ],
      "text/plain": [
       "        sample  label\n",
       "0  train1.aiff      0\n",
       "1  train2.aiff      0\n",
       "2  train3.aiff      0\n",
       "3  train4.aiff      0\n",
       "4  train5.aiff      0"
      ]
     },
     "execution_count": 3,
     "metadata": {},
     "output_type": "execute_result"
    }
   ],
   "source": [
    "import pandas as pd\n",
    "\n",
    "df = pd.read_csv('TEST.csv', header=None, sep=',')\n",
    "df.columns=['sample', 'label']\n",
    "\n",
    "df.head()"
   ]
  },
  {
   "cell_type": "code",
   "execution_count": 5,
   "metadata": {
    "collapsed": false
   },
   "outputs": [
    {
     "name": "stdout",
     "output_type": "stream",
     "text": [
      "0    train1.aiff\n",
      "1    train2.aiff\n",
      "2    train3.aiff\n",
      "3    train4.aiff\n",
      "4    train5.aiff\n",
      "5    train6.aiff\n",
      "6    train7.aiff\n",
      "7    train8.aiff\n",
      "8    train9.aiff\n",
      "Name: sample, dtype: object\n",
      "[[ 0.95175     0.1297666   0.1291571  ...,  0.1333481   0.1291571\n",
      "   0.1297666 ]\n",
      " [ 1.0685      0.00753399  0.02628447 ...,  0.02307569  0.02628447\n",
      "   0.00753399]\n",
      " [ 1.063       0.01633398  0.01855627 ...,  0.02441795  0.01855627\n",
      "   0.01633398]\n",
      " ..., \n",
      " [ 1.21625     0.11070727  0.09229194 ...,  0.10910445  0.09229194\n",
      "   0.11070727]\n",
      " [ 1.126       0.03220637  0.05445704 ...,  0.02814831  0.05445704\n",
      "   0.03220637]\n",
      " [ 1.099       0.02095707  0.03893757 ...,  0.03190175  0.03893757\n",
      "   0.02095707]]\n",
      "[0 0 0 0 0 1 1 0 1]\n"
     ]
    },
    {
     "data": {
      "image/png": "[encoded data removed]",
      "text/plain": [
       "<matplotlib.figure.Figure at 0x3709cc0>"
      ]
     },
     "metadata": {},
     "output_type": "display_data"
    }
   ],
   "source": [
    "X = df['sample']\n",
    "Y = df['label']\n",
    "print X\n",
    "\n",
    "#b = [np.atleast_1d(np.asarray(x,dtype=np.int64)) for x in Y ]\n",
    "#c = csv.writer(open(\"DONNEES.csv\", \"wb\"))\n",
    "#c.writerow([\"Sample\",\"Label\"])\n",
    "#c.writerow([9.80, 'Tarte aux pommes'])\n",
    "#c.append (X[0],Y[0])\n",
    "a = np.array([], float)\n",
    "liste_sample_fft = list()\n",
    "liste_label = list()\n",
    "\n",
    "\n",
    "for i in range(9) :\n",
    "    #filename = X[i] \n",
    "    s = aifc.open(\"C:\\\\Users\\\\Orianne\\\\Documents\\\\Cours\\\\Projet_Baleine_2\\\\whale_data\\\\data\\\\train\\\\\" + X[i], \"r\")\n",
    "    N = s.getnframes()\n",
    "    strsig = s.readframes(N)\n",
    "    y = np.fromstring(strsig, np.short).byteswap()\n",
    "    FE = s.getframerate()\n",
    "    A = np.fft.fft(y)\n",
    "\n",
    "    DeltaT = 1./FE\n",
    "    ampl = np.abs(A)*1./N\n",
    "    freqs = np.fft.fftfreq(N, DeltaT)\n",
    "    \n",
    "    plt.plot(freqs[:N/2], ampl[:N/2])\n",
    "    plt.ylabel(\"Amplitude\")\n",
    "    plt.xlabel(\"Frequence\")\n",
    "    #plt.show()\n",
    "    #print ampl\n",
    "    #print X[i]\n",
    "    liste_sample_fft.append(ampl)\n",
    "    liste_label.append(Y[i])\n",
    "       \n",
    "        \n",
    "#for i in range(10):\n",
    "#    c.append (X[i],Y[i])\n",
    "\n",
    "liste_sample_fft = np.array(liste_sample_fft)\n",
    "liste_label = np.array(liste_label)\n",
    "\n",
    "print liste_sample_fft\n",
    "print liste_label\n",
    "    \n",
    "    "
   ]
  },
  {
   "cell_type": "code",
   "execution_count": 6,
   "metadata": {
    "collapsed": false
   },
   "outputs": [
    {
     "data": {
      "text/plain": [
       "RandomForestClassifier(bootstrap=True, class_weight=None, criterion='gini',\n",
       "            max_depth=None, max_features='auto', max_leaf_nodes=None,\n",
       "            min_samples_leaf=1, min_samples_split=2,\n",
       "            min_weight_fraction_leaf=0.0, n_estimators=10, n_jobs=1,\n",
       "            oob_score=False, random_state=None, verbose=0,\n",
       "            warm_start=False)"
      ]
     },
     "execution_count": 6,
     "metadata": {},
     "output_type": "execute_result"
    }
   ],
   "source": [
    "from sklearn.ensemble import RandomForestClassifier\n",
    "\n",
    "B = RandomForestClassifier()\n",
    "B.fit(liste_sample_fft, liste_label)\n"
   ]
  },
  {
   "cell_type": "code",
   "execution_count": 24,
   "metadata": {
    "collapsed": false
   },
   "outputs": [
    {
     "name": "stderr",
     "output_type": "stream",
     "text": [
      "C:\\Users\\Orianne\\Anaconda2\\lib\\site-packages\\sklearn\\utils\\validation.py:386: DeprecationWarning: Passing 1d arrays as data is deprecated in 0.17 and willraise ValueError in 0.19. Reshape your data either using X.reshape(-1, 1) if your data has a single feature or X.reshape(1, -1) if it contains a single sample.\n",
      "  DeprecationWarning)\n"
     ]
    },
    {
     "data": {
      "text/plain": [
       "array([1], dtype=int64)"
      ]
     },
     "execution_count": 24,
     "metadata": {},
     "output_type": "execute_result"
    }
   ],
   "source": [
    "B.predict(liste_sample_fft[24])"
   ]
  },
  {
   "cell_type": "code",
   "execution_count": 27,
   "metadata": {
    "collapsed": false
   },
   "outputs": [
    {
     "data": {
      "text/plain": [
       "0"
      ]
     },
     "execution_count": 27,
     "metadata": {},
     "output_type": "execute_result"
    }
   ],
   "source": [
    "liste_label[7]"
   ]
  },
  {
   "cell_type": "code",
   "execution_count": 105,
   "metadata": {
    "collapsed": false
   },
   "outputs": [
    {
     "name": "stdout",
     "output_type": "stream",
     "text": [
      "[ 0.91725     0.17900491  0.17839326 ...,  0.17663856  0.17839326\n",
      "  0.17900491]\n"
     ]
    },
    {
     "data": {
      "image/png": "[encoded data removed]",
      "text/plain": [
       "<matplotlib.figure.Figure at 0xbd79208>"
      ]
     },
     "metadata": {},
     "output_type": "display_data"
    }
   ],
   "source": [
    "Z = \"train180.aiff\"\n",
    "s = aifc.open(\"C:\\\\Users\\\\Orianne\\\\Documents\\\\Cours\\\\Projet_Baleine_2\\\\whale_data\\\\data\\\\train\\\\\" + Z, \"r\")\n",
    "N = s.getnframes()\n",
    "strsig = s.readframes(N)\n",
    "y = np.fromstring(strsig, np.short).byteswap()\n",
    "FE = s.getframerate()\n",
    "F = np.fft.fft(y)\n",
    "\n",
    "DeltaT = 1./FE\n",
    "ampl = np.abs(F)*1./N\n",
    "freqs = np.fft.fftfreq(N, DeltaT)\n",
    "    \n",
    "plt.plot(freqs[:N/2], ampl[:N/2])\n",
    "plt.ylabel(\"Amplitude\")\n",
    "plt.xlabel(\"Frequence\")\n",
    "    #plt.show()\n",
    "    #print ampl\n",
    "    #print X[i]\n",
    "\n",
    "print (ampl)\n",
    "    "
   ]
  },
  {
   "cell_type": "code",
   "execution_count": 106,
   "metadata": {
    "collapsed": false
   },
   "outputs": [
    {
     "name": "stderr",
     "output_type": "stream",
     "text": [
      "C:\\Users\\Orianne\\Anaconda2\\lib\\site-packages\\sklearn\\utils\\validation.py:386: DeprecationWarning: Passing 1d arrays as data is deprecated in 0.17 and willraise ValueError in 0.19. Reshape your data either using X.reshape(-1, 1) if your data has a single feature or X.reshape(1, -1) if it contains a single sample.\n",
      "  DeprecationWarning)\n"
     ]
    },
    {
     "data": {
      "text/plain": [
       "array([0], dtype=int64)"
      ]
     },
     "execution_count": 106,
     "metadata": {},
     "output_type": "execute_result"
    }
   ],
   "source": [
    "B.predict(ampl)"
   ]
  },
  {
   "cell_type": "code",
   "execution_count": null,
   "metadata": {
    "collapsed": true
   },
   "outputs": [],
   "source": []
  },
  {
   "cell_type": "code",
   "execution_count": 22,
   "metadata": {
    "collapsed": true
   },
   "outputs": [],
   "source": [
    "from sklearn.decomposition import PCA\n",
    "pca = PCA(n_components=4)\n",
    "LS = liste_sample_fft\n",
    "LS_fit = pca.fit_transform(LS)"
   ]
  },
  {
   "cell_type": "code",
   "execution_count": 23,
   "metadata": {
    "collapsed": false
   },
   "outputs": [
    {
     "name": "stdout",
     "output_type": "stream",
     "text": [
      "4000\n",
      "4\n",
      "[[ 0.95175     0.1297666   0.1291571  ...,  0.1333481   0.1291571\n",
      "   0.1297666 ]\n",
      " [ 1.0685      0.00753399  0.02628447 ...,  0.02307569  0.02628447\n",
      "   0.00753399]\n",
      " [ 1.063       0.01633398  0.01855627 ...,  0.02441795  0.01855627\n",
      "   0.01633398]\n",
      " ..., \n",
      " [ 1.21625     0.11070727  0.09229194 ...,  0.10910445  0.09229194\n",
      "   0.11070727]\n",
      " [ 1.126       0.03220637  0.05445704 ...,  0.02814831  0.05445704\n",
      "   0.03220637]\n",
      " [ 1.099       0.02095707  0.03893757 ...,  0.03190175  0.03893757\n",
      "   0.02095707]]\n",
      "[[ -30.01892271 -237.6097066    -8.70524238    3.44063848]\n",
      " [ 107.90985988   38.30922302  -30.64185672   28.8819541 ]\n",
      " [  85.09147775   30.19825208  -31.8588869    16.15172482]\n",
      " [  76.44340266   23.10625883   -9.87892326   -3.49852446]\n",
      " [  27.47131891   23.51800267    4.78926999 -124.74094411]\n",
      " [  23.65540548   15.37126885  129.67405935   23.05044708]\n",
      " [-428.99627454   48.23894224  -14.01850306   10.40104502]\n",
      " [  71.03338339   31.37727205  -13.34381991   27.93841675]\n",
      " [  67.41034918   27.49048687  -26.0160971    18.37524233]]\n"
     ]
    }
   ],
   "source": [
    "print LS.shape[1]\n",
    "print LS_fit.shape[1]\n",
    "print LS\n",
    "print LS_fit"
   ]
  },
  {
   "cell_type": "code",
   "execution_count": 24,
   "metadata": {
    "collapsed": false
   },
   "outputs": [
    {
     "data": {
      "image/png": "[encoded data removed]",
      "text/plain": [
       "<matplotlib.figure.Figure at 0xc576fd0>"
      ]
     },
     "metadata": {},
     "output_type": "display_data"
    }
   ],
   "source": [
    "plt.scatter(LS_fit[:,0], LS_fit[:,1])\n",
    "plt.xlabel(\"composante principale 1\")\n",
    "plt.ylabel(\"composante principale 2\")\n",
    "plt.show()"
   ]
  },
  {
   "cell_type": "code",
   "execution_count": 21,
   "metadata": {
    "collapsed": false
   },
   "outputs": [
    {
     "name": "stderr",
     "output_type": "stream",
     "text": [
      "C:\\Users\\Orianne\\Anaconda2\\lib\\site-packages\\pandas\\core\\ops.py:716: FutureWarning: elementwise comparison failed; returning scalar instead, but in the future will perform elementwise comparison\n",
      "  result = getattr(x, name)(y)\n"
     ]
    },
    {
     "ename": "TypeError",
     "evalue": "invalid type comparison",
     "output_type": "error",
     "traceback": [
      "\u001b[1;31m---------------------------------------------------------------------------\u001b[0m",
      "\u001b[1;31mTypeError\u001b[0m                                 Traceback (most recent call last)",
      "\u001b[1;32m<ipython-input-21-c7c2cc9fde4c>\u001b[0m in \u001b[0;36m<module>\u001b[1;34m()\u001b[0m\n\u001b[0;32m      2\u001b[0m for lab, col in zip(('0', '1'),\n\u001b[0;32m      3\u001b[0m                     ('blue', 'red')):\n\u001b[1;32m----> 4\u001b[1;33m     plt.scatter(LS_fit[np.array(Y==lab),0],\n\u001b[0m\u001b[0;32m      5\u001b[0m                 \u001b[0mLS_fit\u001b[0m\u001b[1;33m[\u001b[0m\u001b[0mnp\u001b[0m\u001b[1;33m.\u001b[0m\u001b[0marray\u001b[0m\u001b[1;33m(\u001b[0m\u001b[0mY\u001b[0m\u001b[1;33m==\u001b[0m\u001b[0mlab\u001b[0m\u001b[1;33m)\u001b[0m\u001b[1;33m,\u001b[0m \u001b[1;36m1\u001b[0m\u001b[1;33m]\u001b[0m\u001b[1;33m,\u001b[0m\u001b[1;33m\u001b[0m\u001b[0m\n\u001b[0;32m      6\u001b[0m                 \u001b[0mlabel\u001b[0m\u001b[1;33m=\u001b[0m\u001b[0mlab\u001b[0m\u001b[1;33m,\u001b[0m\u001b[1;33m\u001b[0m\u001b[0m\n",
      "\u001b[1;32mC:\\Users\\Orianne\\Anaconda2\\lib\\site-packages\\pandas\\core\\ops.pyc\u001b[0m in \u001b[0;36mwrapper\u001b[1;34m(self, other, axis)\u001b[0m\n\u001b[0;32m    761\u001b[0m                 \u001b[0mother\u001b[0m \u001b[1;33m=\u001b[0m \u001b[0mnp\u001b[0m\u001b[1;33m.\u001b[0m\u001b[0masarray\u001b[0m\u001b[1;33m(\u001b[0m\u001b[0mother\u001b[0m\u001b[1;33m)\u001b[0m\u001b[1;33m\u001b[0m\u001b[0m\n\u001b[0;32m    762\u001b[0m \u001b[1;33m\u001b[0m\u001b[0m\n\u001b[1;32m--> 763\u001b[1;33m             \u001b[0mres\u001b[0m \u001b[1;33m=\u001b[0m \u001b[0mna_op\u001b[0m\u001b[1;33m(\u001b[0m\u001b[0mvalues\u001b[0m\u001b[1;33m,\u001b[0m \u001b[0mother\u001b[0m\u001b[1;33m)\u001b[0m\u001b[1;33m\u001b[0m\u001b[0m\n\u001b[0m\u001b[0;32m    764\u001b[0m             \u001b[1;32mif\u001b[0m \u001b[0misscalar\u001b[0m\u001b[1;33m(\u001b[0m\u001b[0mres\u001b[0m\u001b[1;33m)\u001b[0m\u001b[1;33m:\u001b[0m\u001b[1;33m\u001b[0m\u001b[0m\n\u001b[0;32m    765\u001b[0m                 raise TypeError('Could not compare %s type with Series' %\n",
      "\u001b[1;32mC:\\Users\\Orianne\\Anaconda2\\lib\\site-packages\\pandas\\core\\ops.pyc\u001b[0m in \u001b[0;36mna_op\u001b[1;34m(x, y)\u001b[0m\n\u001b[0;32m    716\u001b[0m                 \u001b[0mresult\u001b[0m \u001b[1;33m=\u001b[0m \u001b[0mgetattr\u001b[0m\u001b[1;33m(\u001b[0m\u001b[0mx\u001b[0m\u001b[1;33m,\u001b[0m \u001b[0mname\u001b[0m\u001b[1;33m)\u001b[0m\u001b[1;33m(\u001b[0m\u001b[0my\u001b[0m\u001b[1;33m)\u001b[0m\u001b[1;33m\u001b[0m\u001b[0m\n\u001b[0;32m    717\u001b[0m                 \u001b[1;32mif\u001b[0m \u001b[0mresult\u001b[0m \u001b[1;32mis\u001b[0m \u001b[0mNotImplemented\u001b[0m\u001b[1;33m:\u001b[0m\u001b[1;33m\u001b[0m\u001b[0m\n\u001b[1;32m--> 718\u001b[1;33m                     \u001b[1;32mraise\u001b[0m \u001b[0mTypeError\u001b[0m\u001b[1;33m(\u001b[0m\u001b[1;34m\"invalid type comparison\"\u001b[0m\u001b[1;33m)\u001b[0m\u001b[1;33m\u001b[0m\u001b[0m\n\u001b[0m\u001b[0;32m    719\u001b[0m             \u001b[1;32mexcept\u001b[0m \u001b[0mAttributeError\u001b[0m\u001b[1;33m:\u001b[0m\u001b[1;33m\u001b[0m\u001b[0m\n\u001b[0;32m    720\u001b[0m                 \u001b[0mresult\u001b[0m \u001b[1;33m=\u001b[0m \u001b[0mop\u001b[0m\u001b[1;33m(\u001b[0m\u001b[0mx\u001b[0m\u001b[1;33m,\u001b[0m \u001b[0my\u001b[0m\u001b[1;33m)\u001b[0m\u001b[1;33m\u001b[0m\u001b[0m\n",
      "\u001b[1;31mTypeError\u001b[0m: invalid type comparison"
     ]
    },
    {
     "data": {
      "text/plain": [
       "<matplotlib.figure.Figure at 0xc39e0b8>"
      ]
     },
     "metadata": {},
     "output_type": "display_data"
    }
   ],
   "source": [
    "plt.figure(figsize=(6, 4))\n",
    "for lab, col in zip(('0', '1'),\n",
    "                    ('blue', 'red')):\n",
    "    plt.scatter(LS_fit[np.array(Y==lab),0],\n",
    "                LS_fit[np.array(Y==lab), 1],\n",
    "                label=lab,\n",
    "                c=col)\n",
    "plt.xlabel('Principal Component 1')\n",
    "plt.ylabel('Principal Component 2')\n",
    "plt.show()"
   ]
  }
 ],
 "metadata": {
  "anaconda-cloud": {},
  "kernelspec": {
   "display_name": "Python [Root]",
   "language": "python",
   "name": "Python [Root]"
  },
  "language_info": {
   "codemirror_mode": {
    "name": "ipython",
    "version": 2
   },
   "file_extension": ".py",
   "mimetype": "text/x-python",
   "name": "python",
   "nbconvert_exporter": "python",
   "pygments_lexer": "ipython2",
   "version": "2.7.12"
  }
 },
 "nbformat": 4,
 "nbformat_minor": 0
}
